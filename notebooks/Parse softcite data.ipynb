{
 "cells": [
  {
   "cell_type": "code",
   "execution_count": 1,
   "metadata": {},
   "outputs": [],
   "source": [
    "from bs4 import BeautifulSoup\n",
    "import re\n",
    "from itertools import chain\n",
    "import numpy as np\n",
    "import pandas as pd"
   ]
  },
  {
   "cell_type": "markdown",
   "metadata": {},
   "source": [
    "Download data from: \n",
    "\n",
    "https://github.com/howisonlab/softcite-dataset/blob/master/data/corpus/softcite_corpus-full.tei.xml\n",
    "\n",
    "(downloaded on February 8, 2021)"
   ]
  },
  {
   "cell_type": "code",
   "execution_count": 2,
   "metadata": {},
   "outputs": [],
   "source": [
    "softcite_xml = \"./data/softcite_corpus-full.tei.xml\""
   ]
  },
  {
   "cell_type": "code",
   "execution_count": 3,
   "metadata": {},
   "outputs": [],
   "source": [
    "content = []\n",
    "with open(softcite_xml, \"r\") as file:\n",
    "    content = file.readlines()\n",
    "    content = \"\".join(content)\n",
    "    softcite_data = BeautifulSoup(content)"
   ]
  },
  {
   "cell_type": "code",
   "execution_count": 4,
   "metadata": {},
   "outputs": [],
   "source": [
    "softcite_body = softcite_data.find_all(\"p\")"
   ]
  },
  {
   "cell_type": "code",
   "execution_count": 5,
   "metadata": {},
   "outputs": [
    {
     "data": {
      "text/plain": [
       "2300"
      ]
     },
     "execution_count": 5,
     "metadata": {},
     "output_type": "execute_result"
    }
   ],
   "source": [
    "len(softcite_body)"
   ]
  },
  {
   "cell_type": "code",
   "execution_count": 6,
   "metadata": {},
   "outputs": [],
   "source": [
    "all_tags = []\n",
    "for i in range(1, len(softcite_body)):\n",
    "    tags = re.findall(\"(?<=\\<).+?(?=\\>)\", str(softcite_body[i])[3:-4])\n",
    "    all_tags.append(tags)"
   ]
  },
  {
   "cell_type": "code",
   "execution_count": 7,
   "metadata": {},
   "outputs": [],
   "source": [
    "labels = [\"url\", \"software\", \"publisher\", \"version\", \"bibr\", \"figure\"]"
   ]
  },
  {
   "cell_type": "code",
   "execution_count": 8,
   "metadata": {
    "scrolled": true
   },
   "outputs": [],
   "source": [
    "labeled_dfs = []\n",
    "for indx in range(1, len(softcite_body)):\n",
    "    text_labels = []\n",
    "    text = str(softcite_body[indx])[3:-4].strip()\n",
    "    tags = re.findall(\"(?<=\\<).+?(?=\\>)\", text)\n",
    "    if tags!=[]:\n",
    "        segments = []\n",
    "        seg1 = text[0: re.search(\"<\"+tags[0]+\">\", text).start()].replace(\"  \",\" \").strip().split(\" \")\n",
    "        text_labels.append([\"O\"]*len(seg1))\n",
    "        segments.append(\" \".join(seg1))\n",
    "        for i in range(0, len(tags)-1):\n",
    "            seg = text[re.search(\"<\"+tags[i]+\">\", text).end(): re.search(\"<\"+tags[i+1]+\">\", text).start()].replace(\"  \",\" \").strip()\n",
    "            if ((seg!=\" \") and (seg!=\"\")):\n",
    "                segments.append(seg)\n",
    "                if (tags[i] =='/ref') or tags[i] =='/rs':\n",
    "                    text_labels.append([\"O\"]*len(seg.split(\" \")))\n",
    "                else:\n",
    "                    if len(seg.split(\" \"))==1:\n",
    "                        text_labels.append([\"B-\"+tags[i][re.search(\"type=\", tags[i]).end():].split(\" \")[0].strip('\"')])\n",
    "                    else:\n",
    "                        text_labels.append([\"B-\"+tags[i][re.search(\"type=\", tags[i]).end():].split(\" \")[0].strip('\"')]+\\\n",
    "                                           [\"I-\"+tags[i][re.search(\"type=\", tags[i]).end():].split(\" \")[0].strip('\"')]*(len(seg.split(\" \"))-1))\n",
    "            text = text[re.search(\"<\"+tags[i+1]+\">\", text).start()-1:]\n",
    "        segn = text[re.search(\"<\"+tags[-1]+\">\", text).end():].strip().replace(\"  \",\" \").split(\" \")\n",
    "        text_labels.append([\"O\"]*len(segn))\n",
    "        segments.append(\" \".join(segn))\n",
    "        \n",
    "        text = str(softcite_body[indx])[3:-4].strip()\n",
    "        for i in range(0, len(tags)):\n",
    "            text = text.replace(\"<\"+tags[i]+\">\", \" \")\n",
    "        text = text.replace(\"  \", \" \")\n",
    "        text = text.replace(\"  \", \" \")\n",
    "        text = text.replace(\"  \", \" \")\n",
    "        text = text.replace(\"  \", \" \")\n",
    "        labeled_dfs.append(pd.DataFrame([[indx]*len(text.split(\" \")), text.split(\" \"), list(chain(*text_labels))]).transpose())"
   ]
  },
  {
   "cell_type": "code",
   "execution_count": 9,
   "metadata": {},
   "outputs": [],
   "source": [
    "labeled_dfs_all = pd.concat(labeled_dfs)"
   ]
  },
  {
   "cell_type": "code",
   "execution_count": 10,
   "metadata": {},
   "outputs": [],
   "source": [
    "labeled_dfs_all = labeled_dfs_all[((labeled_dfs_all[1]!='')& ~(labeled_dfs_all[1].isnull()))]"
   ]
  },
  {
   "cell_type": "code",
   "execution_count": 11,
   "metadata": {},
   "outputs": [],
   "source": [
    "labeled_dfs_all.reset_index(inplace=True)"
   ]
  },
  {
   "cell_type": "code",
   "execution_count": 12,
   "metadata": {},
   "outputs": [],
   "source": [
    "sent_label = 0\n",
    "for j in list(labeled_dfs_all.index):\n",
    "    labeled_dfs_all.loc[j, 'sent_label'] = sent_label\n",
    "    if ((labeled_dfs_all.loc[j, 1]==\".\") or (labeled_dfs_all.loc[j, 1][-1]==\".\")):\n",
    "        sent_label += 1"
   ]
  },
  {
   "cell_type": "code",
   "execution_count": 13,
   "metadata": {},
   "outputs": [],
   "source": [
    "labeled_dfs_all.drop([\"index\"], axis = 1, inplace = True)"
   ]
  },
  {
   "cell_type": "code",
   "execution_count": 14,
   "metadata": {},
   "outputs": [],
   "source": [
    "labeled_dfs_all.to_csv(\"./data/labeled_dfs_all.csv\", index= False)"
   ]
  }
 ],
 "metadata": {
  "kernelspec": {
   "display_name": "Python 3",
   "language": "python",
   "name": "python3"
  },
  "language_info": {
   "codemirror_mode": {
    "name": "ipython",
    "version": 3
   },
   "file_extension": ".py",
   "mimetype": "text/x-python",
   "name": "python",
   "nbconvert_exporter": "python",
   "pygments_lexer": "ipython3",
   "version": "3.7.4"
  }
 },
 "nbformat": 4,
 "nbformat_minor": 2
}
