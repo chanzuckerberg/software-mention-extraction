{
 "cells": [
  {
   "cell_type": "markdown",
   "metadata": {},
   "source": [
    "### Software mentions model (inference mode)"
   ]
  },
  {
   "cell_type": "code",
   "execution_count": 1,
   "metadata": {},
   "outputs": [],
   "source": [
    "import numpy as np\n",
    "import torch\n",
    "from transformers import BertForTokenClassification, BertTokenizerFast"
   ]
  },
  {
   "cell_type": "markdown",
   "metadata": {},
   "source": [
    "Load model \n",
    "\n",
    "Instantiate model and tokenizer"
   ]
  },
  {
   "cell_type": "code",
   "execution_count": 2,
   "metadata": {},
   "outputs": [],
   "source": [
    "trained_model = \"./models/scibert_software_version_2\"\n",
    "tokenizer = BertTokenizerFast.from_pretrained(trained_model, do_lower_case=False)\n",
    "model = BertForTokenClassification.from_pretrained(trained_model)"
   ]
  },
  {
   "cell_type": "markdown",
   "metadata": {},
   "source": [
    "Preprocessing/ Postprocessing functions"
   ]
  },
  {
   "cell_type": "code",
   "execution_count": 3,
   "metadata": {},
   "outputs": [],
   "source": [
    "def get_software_ver_labels(data):\n",
    "    all_sent = []\n",
    "    all_tokens = []\n",
    "    all_labels = []\n",
    "    sentences = data.split(\". \")\n",
    "    for sentence in sentences: \n",
    "        sentence = sentence[:512]\n",
    "        tokenized_sentence = tokenizer.encode(sentence)\n",
    "        input_ids = torch.tensor([tokenized_sentence])#.cuda()\n",
    "        with torch.no_grad():\n",
    "            output = model(input_ids)\n",
    "        label_indices = np.argmax(output[0].to('cpu').numpy(), axis=2)\n",
    "        tokens = tokenizer.convert_ids_to_tokens(input_ids.to('cpu').numpy()[0])\n",
    "\n",
    "        new_tokens, new_labels = [], []\n",
    "        for token, label_idx in zip(tokens, label_indices[0]):\n",
    "            if token.startswith(\"##\"):\n",
    "                new_tokens[-1] = new_tokens[-1] + token[2:]\n",
    "            else:\n",
    "                new_labels.append(tag_values[label_idx])\n",
    "                new_tokens.append(token)\n",
    "        all_tokens.extend(new_tokens[1:-1])\n",
    "        all_labels.extend(new_labels[1:-1])\n",
    "    return list(zip(all_tokens, all_labels))\n",
    "\n",
    "def collapse(ner_result):\n",
    "    collapsed_list = []\n",
    "    current_entity_tokens = []\n",
    "    current_entity = None\n",
    "    for token, tag in ner_result:\n",
    "        if tag == \"O\" or tag == 'I-<version>' or tag == 'B-<version>':\n",
    "            continue\n",
    "        if tag.startswith(\"B-\"):\n",
    "            if current_entity is not None:\n",
    "                collapsed_list.append(\n",
    "                    (\" \".join(current_entity_tokens), current_entity))\n",
    "            current_entity = tag[2:]\n",
    "            current_entity_tokens = [token]\n",
    "        elif tag == \"I-\" + str(current_entity):\n",
    "            current_entity_tokens.append(str(token))\n",
    "        else:\n",
    "            pass\n",
    "    if current_entity is not None:\n",
    "        collapsed_list.append(\n",
    "            (\" \".join(current_entity_tokens), current_entity))\n",
    "    return collapsed_list"
   ]
  },
  {
   "cell_type": "markdown",
   "metadata": {},
   "source": [
    "Tag values: "
   ]
  },
  {
   "cell_type": "code",
   "execution_count": 4,
   "metadata": {},
   "outputs": [],
   "source": [
    "tag_values = ['O', 'B-<software>', 'I-<software>', 'B-<version>', 'I-<version>', 'PAD']"
   ]
  },
  {
   "cell_type": "markdown",
   "metadata": {},
   "source": [
    "Example: "
   ]
  },
  {
   "cell_type": "code",
   "execution_count": 5,
   "metadata": {},
   "outputs": [],
   "source": [
    "test_sentence = \"I used Python package DBSCAN 1.234 for this analysis\""
   ]
  },
  {
   "cell_type": "code",
   "execution_count": 6,
   "metadata": {},
   "outputs": [
    {
     "name": "stdout",
     "output_type": "stream",
     "text": [
      "[('I', 'O'), ('used', 'O'), ('Python', 'B-<software>'), ('package', 'I-<software>'), ('DBSCAN', 'B-<software>'), ('1', 'B-<version>'), ('.', 'I-<version>'), ('234', 'I-<version>'), ('for', 'O'), ('this', 'O'), ('analysis', 'O')]\n"
     ]
    }
   ],
   "source": [
    "print (get_software_ver_labels(test_sentence))"
   ]
  },
  {
   "cell_type": "code",
   "execution_count": 7,
   "metadata": {},
   "outputs": [],
   "source": [
    "softw_sent = get_software_ver_labels(test_sentence)"
   ]
  },
  {
   "cell_type": "code",
   "execution_count": 8,
   "metadata": {},
   "outputs": [
    {
     "data": {
      "text/plain": [
       "[('I', 'O'),\n",
       " ('used', 'O'),\n",
       " ('Python', 'B-<software>'),\n",
       " ('package', 'I-<software>'),\n",
       " ('DBSCAN', 'B-<software>'),\n",
       " ('1', 'B-<version>'),\n",
       " ('.', 'I-<version>'),\n",
       " ('234', 'I-<version>'),\n",
       " ('for', 'O'),\n",
       " ('this', 'O'),\n",
       " ('analysis', 'O')]"
      ]
     },
     "execution_count": 8,
     "metadata": {},
     "output_type": "execute_result"
    }
   ],
   "source": [
    "softw_sent"
   ]
  },
  {
   "cell_type": "code",
   "execution_count": 9,
   "metadata": {},
   "outputs": [],
   "source": [
    "collapsed_software = collapse(softw_sent)"
   ]
  },
  {
   "cell_type": "code",
   "execution_count": 10,
   "metadata": {},
   "outputs": [
    {
     "name": "stdout",
     "output_type": "stream",
     "text": [
      "[('Python package', '<software>'), ('DBSCAN', '<software>')]\n"
     ]
    }
   ],
   "source": [
    "print(collapsed_software)"
   ]
  },
  {
   "cell_type": "code",
   "execution_count": 11,
   "metadata": {},
   "outputs": [],
   "source": [
    "software_list = [x[0] for x in collapsed_software]"
   ]
  },
  {
   "cell_type": "code",
   "execution_count": 12,
   "metadata": {},
   "outputs": [
    {
     "data": {
      "text/plain": [
       "['Python package', 'DBSCAN']"
      ]
     },
     "execution_count": 12,
     "metadata": {},
     "output_type": "execute_result"
    }
   ],
   "source": [
    "software_list"
   ]
  },
  {
   "cell_type": "code",
   "execution_count": 13,
   "metadata": {},
   "outputs": [],
   "source": [
    "def get_software_mentions(sentence):\n",
    "    labels = get_software_ver_labels(test_sentence)\n",
    "    collapse_labels = collapse(labels)\n",
    "    software_list = [x[0] for x in collapse_labels]\n",
    "    return software_list"
   ]
  },
  {
   "cell_type": "code",
   "execution_count": 14,
   "metadata": {},
   "outputs": [
    {
     "data": {
      "text/plain": [
       "['Python package', 'DBSCAN']"
      ]
     },
     "execution_count": 14,
     "metadata": {},
     "output_type": "execute_result"
    }
   ],
   "source": [
    "get_software_mentions(\"I used Python package DBSCAN 1.234 for this analysis\")"
   ]
  }
 ],
 "metadata": {
  "kernelspec": {
   "display_name": "Python 3",
   "language": "python",
   "name": "python3"
  },
  "language_info": {
   "codemirror_mode": {
    "name": "ipython",
    "version": 3
   },
   "file_extension": ".py",
   "mimetype": "text/x-python",
   "name": "python",
   "nbconvert_exporter": "python",
   "pygments_lexer": "ipython3",
   "version": "3.7.4"
  }
 },
 "nbformat": 4,
 "nbformat_minor": 2
}
