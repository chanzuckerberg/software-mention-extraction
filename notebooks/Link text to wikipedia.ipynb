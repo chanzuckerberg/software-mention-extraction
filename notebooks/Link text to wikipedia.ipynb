{
 "cells": [
  {
   "cell_type": "code",
   "execution_count": 1,
   "metadata": {},
   "outputs": [],
   "source": [
    "# Reference: https://github.com/facebookresearch/BLINK\n",
    "\n",
    "import argparse\n",
    "models_path = \"./Models/BLINK Models/\" # the path where you stored the BLINK models"
   ]
  },
  {
   "cell_type": "code",
   "execution_count": 2,
   "metadata": {},
   "outputs": [],
   "source": [
    "import blink.main_dense as main_dense"
   ]
  },
  {
   "cell_type": "code",
   "execution_count": 3,
   "metadata": {},
   "outputs": [],
   "source": [
    "config = {\n",
    "    \"test_entities\": None,\n",
    "    \"test_mentions\": None,\n",
    "    \"interactive\": False,\n",
    "    \"biencoder_model\": models_path+\"biencoder_wiki_large.bin\",\n",
    "    \"biencoder_config\": models_path+\"biencoder_wiki_large.json\",\n",
    "    \"entity_catalogue\": models_path+\"entity.jsonl\",\n",
    "    \"entity_encoding\": models_path+\"all_entities_large.t7\",\n",
    "    \"crossencoder_model\": models_path+\"crossencoder_wiki_large.bin\",\n",
    "    \"crossencoder_config\": models_path+\"crossencoder_wiki_large.json\",\n",
    "    \"faiss_index\": 'flat', \n",
    "    \"index_path\": \"./Models/BLINK Models/faiss_flat_index.pkl\",\n",
    "    \"fast\": True, \n",
    "    \"output_path\": \"logs/\",\n",
    "    \"top_k\":1\n",
    "}\n",
    "\n",
    "args = argparse.Namespace(**config)\n",
    "\n",
    "models = main_dense.load_models(args, logger=None)"
   ]
  },
  {
   "cell_type": "markdown",
   "metadata": {},
   "source": [
    "Example"
   ]
  },
  {
   "cell_type": "code",
   "execution_count": 20,
   "metadata": {},
   "outputs": [],
   "source": [
    "def get_wikipedia_link(mention, left_c, right_c):\n",
    "    data = [{\n",
    "                    \"id\": 1,\n",
    "                    \"label\": \"unknown\",\n",
    "                    \"label_id\": -1,\n",
    "                    \"context_left\": left_c, \n",
    "                    \"mention\": mention,\n",
    "                    \"context_right\": right_c,\n",
    "    }]\n",
    "    _, _ , _, _, _, e_id, e_url, predictions, scores = main_dense.run(args, None, *models, test_data=data)\n",
    "    return e_id, e_url, predictions, scores"
   ]
  },
  {
   "cell_type": "code",
   "execution_count": 30,
   "metadata": {},
   "outputs": [],
   "source": [
    "left_c = \"Analysis has been performed using\"\n",
    "mention = \"Python\"\n",
    "right_c = \"and R statistical software.\""
   ]
  },
  {
   "cell_type": "code",
   "execution_count": 31,
   "metadata": {},
   "outputs": [
    {
     "name": "stderr",
     "output_type": "stream",
     "text": [
      "\r",
      "  0%|          | 0/1 [00:00<?, ?it/s]"
     ]
    },
    {
     "name": "stdout",
     "output_type": "stream",
     "text": [
      "test dataset mode\n",
      "preparing data for biencoder\n",
      "run biencoder\n"
     ]
    },
    {
     "name": "stderr",
     "output_type": "stream",
     "text": [
      "100%|██████████| 1/1 [02:20<00:00, 140.93s/it]\n"
     ]
    }
   ],
   "source": [
    "e_id, e_url, predictions, scores = get_wikipedia_link(mention, left_c, right_c)"
   ]
  },
  {
   "cell_type": "code",
   "execution_count": 32,
   "metadata": {},
   "outputs": [
    {
     "name": "stdout",
     "output_type": "stream",
     "text": [
      "[11738] ['https://en.wikipedia.org/wiki?curid=23862'] [['Python (programming language)']] [array([82.73535], dtype=float32)]\n"
     ]
    }
   ],
   "source": [
    "print(e_id, e_url, predictions, scores)"
   ]
  },
  {
   "cell_type": "code",
   "execution_count": null,
   "metadata": {},
   "outputs": [],
   "source": []
  }
 ],
 "metadata": {
  "kernelspec": {
   "display_name": "Python 3",
   "language": "python",
   "name": "python3"
  },
  "language_info": {
   "codemirror_mode": {
    "name": "ipython",
    "version": 3
   },
   "file_extension": ".py",
   "mimetype": "text/x-python",
   "name": "python",
   "nbconvert_exporter": "python",
   "pygments_lexer": "ipython3",
   "version": "3.7.4"
  }
 },
 "nbformat": 4,
 "nbformat_minor": 2
}
