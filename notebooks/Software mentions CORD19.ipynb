{
 "cells": [
  {
   "cell_type": "markdown",
   "metadata": {},
   "source": [
    "### Software Mention model applied to CORD-19 dataset"
   ]
  },
  {
   "cell_type": "code",
   "execution_count": 1,
   "metadata": {},
   "outputs": [],
   "source": [
    "import numpy as np\n",
    "import pandas as pd\n",
    "import torch\n",
    "import os\n",
    "from transformers import BertForTokenClassification, BertTokenizerFast\n",
    "import json\n",
    "import time"
   ]
  },
  {
   "cell_type": "markdown",
   "metadata": {},
   "source": [
    "Load trained model\n",
    "\n",
    "Instantiate model and tokenizer"
   ]
  },
  {
   "cell_type": "code",
   "execution_count": 2,
   "metadata": {},
   "outputs": [],
   "source": [
    "trained_model = \"./models/scibert_software_sent\"\n",
    "tokenizer = BertTokenizerFast.from_pretrained(trained_model, do_lower_case=False)\n",
    "model = BertForTokenClassification.from_pretrained(trained_model)"
   ]
  },
  {
   "cell_type": "markdown",
   "metadata": {},
   "source": [
    "Preprocessing/ Postprocessing functions"
   ]
  },
  {
   "cell_type": "code",
   "execution_count": 3,
   "metadata": {},
   "outputs": [],
   "source": [
    "def get_software_ver_labels(data):\n",
    "    all_sent = []\n",
    "    all_tokens = []\n",
    "    all_labels = []\n",
    "    sentences = data.split(\". \")\n",
    "    for sentence in sentences: \n",
    "        sentence = sentence[:512]\n",
    "        tokenized_sentence = tokenizer.encode(sentence)\n",
    "        input_ids = torch.tensor([tokenized_sentence])#.cuda()\n",
    "        with torch.no_grad():\n",
    "            output = model(input_ids)\n",
    "        label_indices = np.argmax(output[0].to('cpu').numpy(), axis=2)\n",
    "        tokens = tokenizer.convert_ids_to_tokens(input_ids.to('cpu').numpy()[0])\n",
    "\n",
    "        new_tokens, new_labels = [], []\n",
    "        for token, label_idx in zip(tokens, label_indices[0]):\n",
    "            if token.startswith(\"##\"):\n",
    "                new_tokens[-1] = new_tokens[-1] + token[2:]\n",
    "            else:\n",
    "                new_labels.append(tag_values[label_idx])\n",
    "                new_tokens.append(token)\n",
    "        all_tokens.extend(new_tokens[1:-1])\n",
    "        all_labels.extend(new_labels[1:-1])\n",
    "    return list(zip(all_tokens, all_labels))\n",
    "\n",
    "def collapse(ner_result):\n",
    "    collapsed_list = []\n",
    "    current_entity_tokens = []\n",
    "    current_entity = None\n",
    "    for token, tag in ner_result:\n",
    "        if tag == \"O\" or tag == 'I-<version>' or tag == 'B-<version>':\n",
    "            continue\n",
    "        if tag.startswith(\"B-\"):\n",
    "            if current_entity is not None:\n",
    "                collapsed_list.append(\n",
    "                    (\" \".join(current_entity_tokens), current_entity))\n",
    "            current_entity = tag[2:]\n",
    "            current_entity_tokens = [token]\n",
    "        elif tag == \"I-\" + str(current_entity):\n",
    "            current_entity_tokens.append(str(token))\n",
    "        else:\n",
    "            pass\n",
    "    if current_entity is not None:\n",
    "        collapsed_list.append(\n",
    "            (\" \".join(current_entity_tokens), current_entity))\n",
    "    return collapsed_list"
   ]
  },
  {
   "cell_type": "markdown",
   "metadata": {},
   "source": [
    "Tag values:"
   ]
  },
  {
   "cell_type": "code",
   "execution_count": 4,
   "metadata": {},
   "outputs": [],
   "source": [
    "tag_values = ['I-version', 'O', 'I-software', 'B-version', 'B-software', 'PAD']"
   ]
  },
  {
   "cell_type": "markdown",
   "metadata": {},
   "source": [
    "### Import CORD-19 data\n",
    "\n",
    "Download from: https://ai2-semanticscholar-cord-19.s3-us-west-2.amazonaws.com/historical_releases.html\n",
    "\n",
    "Date: 2021-02-08\n",
    "\n",
    "Size: 7.4GB"
   ]
  },
  {
   "cell_type": "code",
   "execution_count": 6,
   "metadata": {},
   "outputs": [],
   "source": [
    "cord19_data_loc = \"./data/CORD19/\""
   ]
  },
  {
   "cell_type": "code",
   "execution_count": 7,
   "metadata": {},
   "outputs": [
    {
     "data": {
      "text/plain": [
       "['document_parses',\n",
       " '.DS_Store',\n",
       " 'changelog',\n",
       " 'metadata.csv',\n",
       " 'document_parses.tar.gz']"
      ]
     },
     "execution_count": 7,
     "metadata": {},
     "output_type": "execute_result"
    }
   ],
   "source": [
    "os.listdir(cord19_data_loc) "
   ]
  },
  {
   "cell_type": "markdown",
   "metadata": {},
   "source": [
    "### Parse full text papers and metadata"
   ]
  },
  {
   "cell_type": "code",
   "execution_count": 16,
   "metadata": {},
   "outputs": [
    {
     "name": "stderr",
     "output_type": "stream",
     "text": [
      "/Users/iwilliams/anaconda3/lib/python3.7/site-packages/ipykernel_launcher.py:4: SettingWithCopyWarning: \n",
      "A value is trying to be set on a copy of a slice from a DataFrame.\n",
      "Try using .loc[row_indexer,col_indexer] = value instead\n",
      "\n",
      "See the caveats in the documentation: https://pandas.pydata.org/pandas-docs/stable/user_guide/indexing.html#returning-a-view-versus-a-copy\n",
      "  after removing the cwd from sys.path.\n"
     ]
    }
   ],
   "source": [
    "metadata_csv = pd.read_csv(cord19_data_loc+\"metadata.csv\", low_memory=False)\n",
    "\n",
    "metadata_csv_subs = metadata_csv[~metadata_csv['pdf_json_files'].isnull()]\n",
    "metadata_csv_subs['paper_id'] = metadata_csv_subs['pdf_json_files'].apply(lambda x: x.split(\"/\")[-1].split(\".\")[0])\n",
    "\n",
    "all_files = []\n",
    "\n",
    "for filename in os.listdir(cord19_data_loc+'document_parses/pdf_json'):\n",
    "    filename = cord19_data_loc+'document_parses/pdf_json/' + filename\n",
    "    file = json.load(open(filename, 'rb'))\n",
    "    data_df = pd.DataFrame(file['body_text'])\n",
    "    data_df = pd.concat([data_df, pd.DataFrame(file['abstract'])])\n",
    "    data_df['paper_id'] = np.repeat(file['paper_id'], data_df.shape[0])\n",
    "    all_files.append(data_df)\n",
    "    \n",
    "all_files_pdf_df = pd.concat(all_files)\n",
    "\n",
    "pdfs_preproc = pd.merge(all_files_pdf_df, metadata_csv_subs , on = \"paper_id\", how = \"inner\")\n",
    "pdfs_preproc_covid19 = pdfs_preproc[pdfs_preproc['publish_time']>='2020-01-01']"
   ]
  },
  {
   "cell_type": "markdown",
   "metadata": {},
   "source": [
    "### Extract mentions of software from all pdfs in \"./document_parses/pdf_json\""
   ]
  },
  {
   "cell_type": "markdown",
   "metadata": {},
   "source": [
    "Preprocess text: "
   ]
  },
  {
   "cell_type": "code",
   "execution_count": 20,
   "metadata": {},
   "outputs": [],
   "source": [
    "pdfs_preproc_covid19['text'] = pdfs_preproc_covid19['text'].astype(str)\n",
    "pdfs_preproc_covid19_subset = pdfs_preproc_covid19[~pdfs_preproc_covid19['text'].apply(lambda x: \"\\n\\t\\t\\t\\t\" in x)]\n",
    "pdfs_preproc_covid19_subset.reset_index(inplace=True)\n",
    "pdfs_preproc_covid19_subset['sentences'] = pdfs_preproc_covid19_subset['text'].apply(lambda x: x.split(\". \"))\n",
    "pdfs_preproc_covid19_subset_sentences = pdfs_preproc_covid19_subset.explode('sentences')\n",
    "pdfs_preproc_covid19_subset_sentences['len_sent'] = pdfs_preproc_covid19_subset_sentences['sentences'].apply(lambda x: len(x))\n",
    "pdfs_preproc_covid19_subset_sentences_subs = pdfs_preproc_covid19_subset_sentences[(pdfs_preproc_covid19_subset_sentences['len_sent']>60)]\n",
    "pdfs_preproc_covid19_subset_sentences_subs.drop(['index'], axis = 1, inplace = True)"
   ]
  },
  {
   "cell_type": "code",
   "execution_count": 26,
   "metadata": {},
   "outputs": [],
   "source": [
    "pdfs_preproc_covid19_subset_sentences_subs.reset_index(inplace=True)"
   ]
  },
  {
   "cell_type": "markdown",
   "metadata": {},
   "source": [
    "Get software mentions:"
   ]
  },
  {
   "cell_type": "code",
   "execution_count": 28,
   "metadata": {},
   "outputs": [
    {
     "name": "stdout",
     "output_type": "stream",
     "text": [
      "0\n"
     ]
    }
   ],
   "source": [
    "temp_s = []\n",
    "for indx in pdfs_preproc_covid19_subset_sentences_subs.index:\n",
    "    if indx%1000 ==0:\n",
    "        print (indx)\n",
    "    temp_s.append([indx, get_software_ver_labels(pdfs_preproc_covid19_subset_sentences_subs.loc[indx, 'sentences'])])"
   ]
  },
  {
   "cell_type": "code",
   "execution_count": 29,
   "metadata": {},
   "outputs": [],
   "source": [
    "software_df = pd.DataFrame(temp_s)"
   ]
  },
  {
   "cell_type": "markdown",
   "metadata": {},
   "source": [
    "Post-process text:"
   ]
  },
  {
   "cell_type": "code",
   "execution_count": 30,
   "metadata": {},
   "outputs": [],
   "source": [
    "software_eval = pd.concat([pdfs_preproc_covid19_subset_sentences_subs[0:software_df.shape[0]] , software_df], axis = 1)\n",
    "software_eval['software'] = software_eval[1].apply(lambda x: collapse(x))\n",
    "software_eval['software_clean'] = software_eval['software'].apply(lambda x: [i[0] for i in x])"
   ]
  },
  {
   "cell_type": "code",
   "execution_count": 32,
   "metadata": {},
   "outputs": [],
   "source": [
    "excl_list = [\"COVID\", \"COVID-\",\"19\", \"Android\", \"Apple\",\"#\",\")\",\"(\",\"*\", \"+\",\"-\",\"scRNA\", \"Medline\",\"Pubmed\", \"COVID -\", \"scRNA - seq\", \"nCODIV\", \"scRNAseq\", \"COVID\", \"COVID19\", \"COVID 19\", \"COVID-19\", \"COVID - 19\" , \"SARS\", \"Covid\",\"MERS\", \"medRxiv\", \"bioRxiv\", \"smartphone\", \"H1N1\", \"H1N2\"]\n",
    "companies = [\"Google\", \"Microsoft\", \"IBM\", \"Apple\", \"Twitter\", \"Facebook\", \"WhatsApp\", \"Instagram\", \"YouTube\", \"Zoom\", \"WeChat\"]"
   ]
  },
  {
   "cell_type": "code",
   "execution_count": 33,
   "metadata": {},
   "outputs": [],
   "source": [
    "software_eval['software_clean'] = software_eval['software_clean'].apply(lambda x: [i for i in x if (i not in excl_list and i not in companies)])"
   ]
  },
  {
   "cell_type": "code",
   "execution_count": 37,
   "metadata": {},
   "outputs": [],
   "source": [
    "software_eval['software_clean'] = software_eval['software_clean'].apply(lambda x: [i for i in x if len(i)>1 or i ==\"R\"])"
   ]
  },
  {
   "cell_type": "code",
   "execution_count": 35,
   "metadata": {},
   "outputs": [
    {
     "data": {
      "text/html": [
       "<div>\n",
       "<style scoped>\n",
       "    .dataframe tbody tr th:only-of-type {\n",
       "        vertical-align: middle;\n",
       "    }\n",
       "\n",
       "    .dataframe tbody tr th {\n",
       "        vertical-align: top;\n",
       "    }\n",
       "\n",
       "    .dataframe thead th {\n",
       "        text-align: right;\n",
       "    }\n",
       "</style>\n",
       "<table border=\"1\" class=\"dataframe\">\n",
       "  <thead>\n",
       "    <tr style=\"text-align: right;\">\n",
       "      <th></th>\n",
       "      <th>section</th>\n",
       "      <th>source_x</th>\n",
       "      <th>title</th>\n",
       "      <th>doi</th>\n",
       "      <th>license</th>\n",
       "      <th>abstract</th>\n",
       "      <th>publish_time</th>\n",
       "      <th>journal</th>\n",
       "      <th>url</th>\n",
       "      <th>sentences</th>\n",
       "      <th>software_clean</th>\n",
       "    </tr>\n",
       "  </thead>\n",
       "  <tbody>\n",
       "    <tr>\n",
       "      <th>0</th>\n",
       "      <td></td>\n",
       "      <td>Medline; PMC</td>\n",
       "      <td>Clinical and epidemiological characteristics o...</td>\n",
       "      <td>10.1371/journal.pmed.1003130</td>\n",
       "      <td>cc-by</td>\n",
       "      <td>BACKGROUND: As of April 18, 2020, over 2,000,0...</td>\n",
       "      <td>2020-06-16</td>\n",
       "      <td>PLoS Med</td>\n",
       "      <td>https://doi.org/10.1371/journal.pmed.1003130; ...</td>\n",
       "      <td>a1111111111 a1111111111 a1111111111 a111111111...</td>\n",
       "      <td>[]</td>\n",
       "    </tr>\n",
       "    <tr>\n",
       "      <th>1</th>\n",
       "      <td></td>\n",
       "      <td>Medline; PMC</td>\n",
       "      <td>Clinical and epidemiological characteristics o...</td>\n",
       "      <td>10.1371/journal.pmed.1003130</td>\n",
       "      <td>cc-by</td>\n",
       "      <td>BACKGROUND: As of April 18, 2020, over 2,000,0...</td>\n",
       "      <td>2020-06-16</td>\n",
       "      <td>PLoS Med</td>\n",
       "      <td>https://doi.org/10.1371/journal.pmed.1003130; ...</td>\n",
       "      <td>In addition, significant increases in the leve...</td>\n",
       "      <td>[]</td>\n",
       "    </tr>\n",
       "    <tr>\n",
       "      <th>2</th>\n",
       "      <td></td>\n",
       "      <td>Medline; PMC</td>\n",
       "      <td>Clinical and epidemiological characteristics o...</td>\n",
       "      <td>10.1371/journal.pmed.1003130</td>\n",
       "      <td>cc-by</td>\n",
       "      <td>BACKGROUND: As of April 18, 2020, over 2,000,0...</td>\n",
       "      <td>2020-06-16</td>\n",
       "      <td>PLoS Med</td>\n",
       "      <td>https://doi.org/10.1371/journal.pmed.1003130; ...</td>\n",
       "      <td>Patchy lesions in lobules were detected by che...</td>\n",
       "      <td>[]</td>\n",
       "    </tr>\n",
       "    <tr>\n",
       "      <th>3</th>\n",
       "      <td></td>\n",
       "      <td>Medline; PMC</td>\n",
       "      <td>Clinical and epidemiological characteristics o...</td>\n",
       "      <td>10.1371/journal.pmed.1003130</td>\n",
       "      <td>cc-by</td>\n",
       "      <td>BACKGROUND: As of April 18, 2020, over 2,000,0...</td>\n",
       "      <td>2020-06-16</td>\n",
       "      <td>PLoS Med</td>\n",
       "      <td>https://doi.org/10.1371/journal.pmed.1003130; ...</td>\n",
       "      <td>Ground-glass opacities, which were a typical f...</td>\n",
       "      <td>[]</td>\n",
       "    </tr>\n",
       "    <tr>\n",
       "      <th>4</th>\n",
       "      <td></td>\n",
       "      <td>Medline; PMC</td>\n",
       "      <td>Clinical and epidemiological characteristics o...</td>\n",
       "      <td>10.1371/journal.pmed.1003130</td>\n",
       "      <td>cc-by</td>\n",
       "      <td>BACKGROUND: As of April 18, 2020, over 2,000,0...</td>\n",
       "      <td>2020-06-16</td>\n",
       "      <td>PLoS Med</td>\n",
       "      <td>https://doi.org/10.1371/journal.pmed.1003130; ...</td>\n",
       "      <td>Rapid radiologic progression and a late-onset ...</td>\n",
       "      <td>[]</td>\n",
       "    </tr>\n",
       "  </tbody>\n",
       "</table>\n",
       "</div>"
      ],
      "text/plain": [
       "  section      source_x                                              title  \\\n",
       "0          Medline; PMC  Clinical and epidemiological characteristics o...   \n",
       "1          Medline; PMC  Clinical and epidemiological characteristics o...   \n",
       "2          Medline; PMC  Clinical and epidemiological characteristics o...   \n",
       "3          Medline; PMC  Clinical and epidemiological characteristics o...   \n",
       "4          Medline; PMC  Clinical and epidemiological characteristics o...   \n",
       "\n",
       "                            doi license  \\\n",
       "0  10.1371/journal.pmed.1003130   cc-by   \n",
       "1  10.1371/journal.pmed.1003130   cc-by   \n",
       "2  10.1371/journal.pmed.1003130   cc-by   \n",
       "3  10.1371/journal.pmed.1003130   cc-by   \n",
       "4  10.1371/journal.pmed.1003130   cc-by   \n",
       "\n",
       "                                            abstract publish_time   journal  \\\n",
       "0  BACKGROUND: As of April 18, 2020, over 2,000,0...   2020-06-16  PLoS Med   \n",
       "1  BACKGROUND: As of April 18, 2020, over 2,000,0...   2020-06-16  PLoS Med   \n",
       "2  BACKGROUND: As of April 18, 2020, over 2,000,0...   2020-06-16  PLoS Med   \n",
       "3  BACKGROUND: As of April 18, 2020, over 2,000,0...   2020-06-16  PLoS Med   \n",
       "4  BACKGROUND: As of April 18, 2020, over 2,000,0...   2020-06-16  PLoS Med   \n",
       "\n",
       "                                                 url  \\\n",
       "0  https://doi.org/10.1371/journal.pmed.1003130; ...   \n",
       "1  https://doi.org/10.1371/journal.pmed.1003130; ...   \n",
       "2  https://doi.org/10.1371/journal.pmed.1003130; ...   \n",
       "3  https://doi.org/10.1371/journal.pmed.1003130; ...   \n",
       "4  https://doi.org/10.1371/journal.pmed.1003130; ...   \n",
       "\n",
       "                                           sentences software_clean  \n",
       "0  a1111111111 a1111111111 a1111111111 a111111111...             []  \n",
       "1  In addition, significant increases in the leve...             []  \n",
       "2  Patchy lesions in lobules were detected by che...             []  \n",
       "3  Ground-glass opacities, which were a typical f...             []  \n",
       "4  Rapid radiologic progression and a late-onset ...             []  "
      ]
     },
     "execution_count": 35,
     "metadata": {},
     "output_type": "execute_result"
    }
   ],
   "source": [
    "software_eval[['section',          \n",
    "               'source_x',            \n",
    "               'title',\n",
    "               'doi', \n",
    "               'license',         \n",
    "               'abstract',     \n",
    "               'publish_time', \n",
    "               'journal', \n",
    "               'url',  \n",
    "               'sentences', \n",
    "               'software_clean']].head()"
   ]
  },
  {
   "cell_type": "code",
   "execution_count": 46,
   "metadata": {},
   "outputs": [],
   "source": [
    "all_software = software_eval.explode(\"software_clean\")"
   ]
  },
  {
   "cell_type": "markdown",
   "metadata": {},
   "source": [
    "Mentions per sentence: "
   ]
  },
  {
   "cell_type": "code",
   "execution_count": 67,
   "metadata": {},
   "outputs": [
    {
     "data": {
      "text/html": [
       "<div>\n",
       "<style scoped>\n",
       "    .dataframe tbody tr th:only-of-type {\n",
       "        vertical-align: middle;\n",
       "    }\n",
       "\n",
       "    .dataframe tbody tr th {\n",
       "        vertical-align: top;\n",
       "    }\n",
       "\n",
       "    .dataframe thead th {\n",
       "        text-align: right;\n",
       "    }\n",
       "</style>\n",
       "<table border=\"1\" class=\"dataframe\">\n",
       "  <thead>\n",
       "    <tr style=\"text-align: right;\">\n",
       "      <th></th>\n",
       "      <th>index</th>\n",
       "      <th>text</th>\n",
       "      <th>cite_spans</th>\n",
       "      <th>ref_spans</th>\n",
       "      <th>section</th>\n",
       "      <th>paper_id</th>\n",
       "      <th>cord_uid</th>\n",
       "      <th>sha</th>\n",
       "      <th>source_x</th>\n",
       "      <th>title</th>\n",
       "      <th>...</th>\n",
       "      <th>pdf_json_files</th>\n",
       "      <th>pmc_json_files</th>\n",
       "      <th>url</th>\n",
       "      <th>s2_id</th>\n",
       "      <th>sentences</th>\n",
       "      <th>len_sent</th>\n",
       "      <th>0</th>\n",
       "      <th>1</th>\n",
       "      <th>software</th>\n",
       "      <th>software_clean</th>\n",
       "    </tr>\n",
       "  </thead>\n",
       "  <tbody>\n",
       "    <tr>\n",
       "      <th>0</th>\n",
       "      <td>0</td>\n",
       "      <td>a1111111111 a1111111111 a1111111111 a111111111...</td>\n",
       "      <td>[{'start': 899, 'end': 910, 'text': '(8.00-14....</td>\n",
       "      <td>[]</td>\n",
       "      <td></td>\n",
       "      <td>efe13333c69a364cb5d4463ba93815e6fc2d91c6</td>\n",
       "      <td>u9num2o9</td>\n",
       "      <td>efe13333c69a364cb5d4463ba93815e6fc2d91c6</td>\n",
       "      <td>Medline; PMC</td>\n",
       "      <td>Clinical and epidemiological characteristics o...</td>\n",
       "      <td>...</td>\n",
       "      <td>document_parses/pdf_json/efe13333c69a364cb5d44...</td>\n",
       "      <td>document_parses/pmc_json/PMC7297312.xml.json</td>\n",
       "      <td>https://doi.org/10.1371/journal.pmed.1003130; ...</td>\n",
       "      <td>219726388.0</td>\n",
       "      <td>a1111111111 a1111111111 a1111111111 a111111111...</td>\n",
       "      <td>80</td>\n",
       "      <td>0</td>\n",
       "      <td>[(a1111111111, O), (a1111111111, O), (a1111111...</td>\n",
       "      <td>[]</td>\n",
       "      <td>NaN</td>\n",
       "    </tr>\n",
       "    <tr>\n",
       "      <th>1</th>\n",
       "      <td>0</td>\n",
       "      <td>a1111111111 a1111111111 a1111111111 a111111111...</td>\n",
       "      <td>[{'start': 899, 'end': 910, 'text': '(8.00-14....</td>\n",
       "      <td>[]</td>\n",
       "      <td></td>\n",
       "      <td>efe13333c69a364cb5d4463ba93815e6fc2d91c6</td>\n",
       "      <td>u9num2o9</td>\n",
       "      <td>efe13333c69a364cb5d4463ba93815e6fc2d91c6</td>\n",
       "      <td>Medline; PMC</td>\n",
       "      <td>Clinical and epidemiological characteristics o...</td>\n",
       "      <td>...</td>\n",
       "      <td>document_parses/pdf_json/efe13333c69a364cb5d44...</td>\n",
       "      <td>document_parses/pmc_json/PMC7297312.xml.json</td>\n",
       "      <td>https://doi.org/10.1371/journal.pmed.1003130; ...</td>\n",
       "      <td>219726388.0</td>\n",
       "      <td>In addition, significant increases in the leve...</td>\n",
       "      <td>258</td>\n",
       "      <td>1</td>\n",
       "      <td>[(In, O), (addition, O), (,, O), (significant,...</td>\n",
       "      <td>[]</td>\n",
       "      <td>NaN</td>\n",
       "    </tr>\n",
       "    <tr>\n",
       "      <th>2</th>\n",
       "      <td>0</td>\n",
       "      <td>a1111111111 a1111111111 a1111111111 a111111111...</td>\n",
       "      <td>[{'start': 899, 'end': 910, 'text': '(8.00-14....</td>\n",
       "      <td>[]</td>\n",
       "      <td></td>\n",
       "      <td>efe13333c69a364cb5d4463ba93815e6fc2d91c6</td>\n",
       "      <td>u9num2o9</td>\n",
       "      <td>efe13333c69a364cb5d4463ba93815e6fc2d91c6</td>\n",
       "      <td>Medline; PMC</td>\n",
       "      <td>Clinical and epidemiological characteristics o...</td>\n",
       "      <td>...</td>\n",
       "      <td>document_parses/pdf_json/efe13333c69a364cb5d44...</td>\n",
       "      <td>document_parses/pmc_json/PMC7297312.xml.json</td>\n",
       "      <td>https://doi.org/10.1371/journal.pmed.1003130; ...</td>\n",
       "      <td>219726388.0</td>\n",
       "      <td>Patchy lesions in lobules were detected by che...</td>\n",
       "      <td>96</td>\n",
       "      <td>2</td>\n",
       "      <td>[(Patchy, O), (lesions, O), (in, O), (lobules,...</td>\n",
       "      <td>[]</td>\n",
       "      <td>NaN</td>\n",
       "    </tr>\n",
       "    <tr>\n",
       "      <th>3</th>\n",
       "      <td>0</td>\n",
       "      <td>a1111111111 a1111111111 a1111111111 a111111111...</td>\n",
       "      <td>[{'start': 899, 'end': 910, 'text': '(8.00-14....</td>\n",
       "      <td>[]</td>\n",
       "      <td></td>\n",
       "      <td>efe13333c69a364cb5d4463ba93815e6fc2d91c6</td>\n",
       "      <td>u9num2o9</td>\n",
       "      <td>efe13333c69a364cb5d4463ba93815e6fc2d91c6</td>\n",
       "      <td>Medline; PMC</td>\n",
       "      <td>Clinical and epidemiological characteristics o...</td>\n",
       "      <td>...</td>\n",
       "      <td>document_parses/pdf_json/efe13333c69a364cb5d44...</td>\n",
       "      <td>document_parses/pmc_json/PMC7297312.xml.json</td>\n",
       "      <td>https://doi.org/10.1371/journal.pmed.1003130; ...</td>\n",
       "      <td>219726388.0</td>\n",
       "      <td>Ground-glass opacities, which were a typical f...</td>\n",
       "      <td>100</td>\n",
       "      <td>3</td>\n",
       "      <td>[(Ground, O), (-, O), (glass, O), (opacities, ...</td>\n",
       "      <td>[]</td>\n",
       "      <td>NaN</td>\n",
       "    </tr>\n",
       "    <tr>\n",
       "      <th>4</th>\n",
       "      <td>0</td>\n",
       "      <td>a1111111111 a1111111111 a1111111111 a111111111...</td>\n",
       "      <td>[{'start': 899, 'end': 910, 'text': '(8.00-14....</td>\n",
       "      <td>[]</td>\n",
       "      <td></td>\n",
       "      <td>efe13333c69a364cb5d4463ba93815e6fc2d91c6</td>\n",
       "      <td>u9num2o9</td>\n",
       "      <td>efe13333c69a364cb5d4463ba93815e6fc2d91c6</td>\n",
       "      <td>Medline; PMC</td>\n",
       "      <td>Clinical and epidemiological characteristics o...</td>\n",
       "      <td>...</td>\n",
       "      <td>document_parses/pdf_json/efe13333c69a364cb5d44...</td>\n",
       "      <td>document_parses/pmc_json/PMC7297312.xml.json</td>\n",
       "      <td>https://doi.org/10.1371/journal.pmed.1003130; ...</td>\n",
       "      <td>219726388.0</td>\n",
       "      <td>Rapid radiologic progression and a late-onset ...</td>\n",
       "      <td>97</td>\n",
       "      <td>4</td>\n",
       "      <td>[(Rapid, O), (radiologic, O), (progression, O)...</td>\n",
       "      <td>[]</td>\n",
       "      <td>NaN</td>\n",
       "    </tr>\n",
       "  </tbody>\n",
       "</table>\n",
       "<p>5 rows × 31 columns</p>\n",
       "</div>"
      ],
      "text/plain": [
       "   index                                               text  \\\n",
       "0      0  a1111111111 a1111111111 a1111111111 a111111111...   \n",
       "1      0  a1111111111 a1111111111 a1111111111 a111111111...   \n",
       "2      0  a1111111111 a1111111111 a1111111111 a111111111...   \n",
       "3      0  a1111111111 a1111111111 a1111111111 a111111111...   \n",
       "4      0  a1111111111 a1111111111 a1111111111 a111111111...   \n",
       "\n",
       "                                          cite_spans ref_spans section  \\\n",
       "0  [{'start': 899, 'end': 910, 'text': '(8.00-14....        []           \n",
       "1  [{'start': 899, 'end': 910, 'text': '(8.00-14....        []           \n",
       "2  [{'start': 899, 'end': 910, 'text': '(8.00-14....        []           \n",
       "3  [{'start': 899, 'end': 910, 'text': '(8.00-14....        []           \n",
       "4  [{'start': 899, 'end': 910, 'text': '(8.00-14....        []           \n",
       "\n",
       "                                   paper_id  cord_uid  \\\n",
       "0  efe13333c69a364cb5d4463ba93815e6fc2d91c6  u9num2o9   \n",
       "1  efe13333c69a364cb5d4463ba93815e6fc2d91c6  u9num2o9   \n",
       "2  efe13333c69a364cb5d4463ba93815e6fc2d91c6  u9num2o9   \n",
       "3  efe13333c69a364cb5d4463ba93815e6fc2d91c6  u9num2o9   \n",
       "4  efe13333c69a364cb5d4463ba93815e6fc2d91c6  u9num2o9   \n",
       "\n",
       "                                        sha      source_x  \\\n",
       "0  efe13333c69a364cb5d4463ba93815e6fc2d91c6  Medline; PMC   \n",
       "1  efe13333c69a364cb5d4463ba93815e6fc2d91c6  Medline; PMC   \n",
       "2  efe13333c69a364cb5d4463ba93815e6fc2d91c6  Medline; PMC   \n",
       "3  efe13333c69a364cb5d4463ba93815e6fc2d91c6  Medline; PMC   \n",
       "4  efe13333c69a364cb5d4463ba93815e6fc2d91c6  Medline; PMC   \n",
       "\n",
       "                                               title  ...  \\\n",
       "0  Clinical and epidemiological characteristics o...  ...   \n",
       "1  Clinical and epidemiological characteristics o...  ...   \n",
       "2  Clinical and epidemiological characteristics o...  ...   \n",
       "3  Clinical and epidemiological characteristics o...  ...   \n",
       "4  Clinical and epidemiological characteristics o...  ...   \n",
       "\n",
       "                                      pdf_json_files  \\\n",
       "0  document_parses/pdf_json/efe13333c69a364cb5d44...   \n",
       "1  document_parses/pdf_json/efe13333c69a364cb5d44...   \n",
       "2  document_parses/pdf_json/efe13333c69a364cb5d44...   \n",
       "3  document_parses/pdf_json/efe13333c69a364cb5d44...   \n",
       "4  document_parses/pdf_json/efe13333c69a364cb5d44...   \n",
       "\n",
       "                                 pmc_json_files  \\\n",
       "0  document_parses/pmc_json/PMC7297312.xml.json   \n",
       "1  document_parses/pmc_json/PMC7297312.xml.json   \n",
       "2  document_parses/pmc_json/PMC7297312.xml.json   \n",
       "3  document_parses/pmc_json/PMC7297312.xml.json   \n",
       "4  document_parses/pmc_json/PMC7297312.xml.json   \n",
       "\n",
       "                                                 url        s2_id  \\\n",
       "0  https://doi.org/10.1371/journal.pmed.1003130; ...  219726388.0   \n",
       "1  https://doi.org/10.1371/journal.pmed.1003130; ...  219726388.0   \n",
       "2  https://doi.org/10.1371/journal.pmed.1003130; ...  219726388.0   \n",
       "3  https://doi.org/10.1371/journal.pmed.1003130; ...  219726388.0   \n",
       "4  https://doi.org/10.1371/journal.pmed.1003130; ...  219726388.0   \n",
       "\n",
       "                                           sentences len_sent  0  \\\n",
       "0  a1111111111 a1111111111 a1111111111 a111111111...       80  0   \n",
       "1  In addition, significant increases in the leve...      258  1   \n",
       "2  Patchy lesions in lobules were detected by che...       96  2   \n",
       "3  Ground-glass opacities, which were a typical f...      100  3   \n",
       "4  Rapid radiologic progression and a late-onset ...       97  4   \n",
       "\n",
       "                                                   1  software software_clean  \n",
       "0  [(a1111111111, O), (a1111111111, O), (a1111111...        []            NaN  \n",
       "1  [(In, O), (addition, O), (,, O), (significant,...        []            NaN  \n",
       "2  [(Patchy, O), (lesions, O), (in, O), (lobules,...        []            NaN  \n",
       "3  [(Ground, O), (-, O), (glass, O), (opacities, ...        []            NaN  \n",
       "4  [(Rapid, O), (radiologic, O), (progression, O)...        []            NaN  \n",
       "\n",
       "[5 rows x 31 columns]"
      ]
     },
     "execution_count": 67,
     "metadata": {},
     "output_type": "execute_result"
    }
   ],
   "source": [
    "all_software.head()"
   ]
  },
  {
   "cell_type": "code",
   "execution_count": 52,
   "metadata": {},
   "outputs": [],
   "source": [
    "all_software_nonull = all_software[~all_software['software_clean'].isnull()]"
   ]
  },
  {
   "cell_type": "code",
   "execution_count": 53,
   "metadata": {},
   "outputs": [],
   "source": [
    "all_software_pp = all_software_nonull.groupby([\"paper_id\"])[\"software_clean\"].apply(lambda x: x.tolist())"
   ]
  },
  {
   "cell_type": "code",
   "execution_count": 54,
   "metadata": {},
   "outputs": [
    {
     "data": {
      "text/plain": [
       "paper_id\n",
       "190c2ad4da55a54dccf52a4dd83ebe317926fb2d                 [CoronIT, CoronIT, HPzone, R, stats]\n",
       "2b12eec29eceba760197cbb4ebe2fcdd1d522a22                                                  [R]\n",
       "a071bea9e05d8d81f97db1c6aca34e07ff145e8c    [Raosoft, SurveyMonkey, Statistical Package fo...\n",
       "e21fa0c3998bf989ec31046de9ebe3e074ec77ab                            [CXNet, CheXNeXt, MATLAB]\n",
       "e9f4e223a840bf55a1bcfc2646946612361289eb                                           [SPSS, 25]\n",
       "efe13333c69a364cb5d4463ba93815e6fc2d91c6                                           [SPSS, 20]\n",
       "Name: software_clean, dtype: object"
      ]
     },
     "execution_count": 54,
     "metadata": {},
     "output_type": "execute_result"
    }
   ],
   "source": [
    "all_software_pp"
   ]
  },
  {
   "cell_type": "code",
   "execution_count": 68,
   "metadata": {},
   "outputs": [],
   "source": [
    "all_software_dedup = all_software[['paper_id',\n",
    "               'source_x',            \n",
    "               'title',\n",
    "               'doi', \n",
    "               'license',         \n",
    "               'abstract',     \n",
    "               'publish_time', \n",
    "               'journal', \n",
    "               'url']].drop_duplicates()"
   ]
  },
  {
   "cell_type": "code",
   "execution_count": 71,
   "metadata": {},
   "outputs": [],
   "source": [
    "paper_to_software = pd.merge(all_software_pp, all_software_dedup, how = \"left\", on = \"paper_id\")"
   ]
  },
  {
   "cell_type": "code",
   "execution_count": 74,
   "metadata": {},
   "outputs": [],
   "source": [
    "paper_to_software.columns = ['paper_id', 'software', 'source', 'title', 'doi', 'license',\n",
    "       'abstract', 'publish_time', 'journal', 'url']"
   ]
  },
  {
   "cell_type": "code",
   "execution_count": 75,
   "metadata": {},
   "outputs": [
    {
     "data": {
      "text/html": [
       "<div>\n",
       "<style scoped>\n",
       "    .dataframe tbody tr th:only-of-type {\n",
       "        vertical-align: middle;\n",
       "    }\n",
       "\n",
       "    .dataframe tbody tr th {\n",
       "        vertical-align: top;\n",
       "    }\n",
       "\n",
       "    .dataframe thead th {\n",
       "        text-align: right;\n",
       "    }\n",
       "</style>\n",
       "<table border=\"1\" class=\"dataframe\">\n",
       "  <thead>\n",
       "    <tr style=\"text-align: right;\">\n",
       "      <th></th>\n",
       "      <th>paper_id</th>\n",
       "      <th>software</th>\n",
       "      <th>source</th>\n",
       "      <th>title</th>\n",
       "      <th>doi</th>\n",
       "      <th>license</th>\n",
       "      <th>abstract</th>\n",
       "      <th>publish_time</th>\n",
       "      <th>journal</th>\n",
       "      <th>url</th>\n",
       "    </tr>\n",
       "  </thead>\n",
       "  <tbody>\n",
       "    <tr>\n",
       "      <th>0</th>\n",
       "      <td>190c2ad4da55a54dccf52a4dd83ebe317926fb2d</td>\n",
       "      <td>[CoronIT, CoronIT, HPzone, R, stats]</td>\n",
       "      <td>Medline; PMC</td>\n",
       "      <td>Occupation- and age-associated risk of SARS-Co...</td>\n",
       "      <td>10.2807/1560-7917.es.2020.25.50.2001884</td>\n",
       "      <td>cc-by</td>\n",
       "      <td>High coronavirus incidence has prompted the Ne...</td>\n",
       "      <td>2020-12-17</td>\n",
       "      <td>Euro Surveill</td>\n",
       "      <td>https://www.ncbi.nlm.nih.gov/pubmed/33334396/;...</td>\n",
       "    </tr>\n",
       "    <tr>\n",
       "      <th>1</th>\n",
       "      <td>2b12eec29eceba760197cbb4ebe2fcdd1d522a22</td>\n",
       "      <td>[R]</td>\n",
       "      <td>MedRxiv; WHO</td>\n",
       "      <td>SARS-CoV-2 Infection Hospitalization Rate and ...</td>\n",
       "      <td>10.1101/2020.10.30.20223461</td>\n",
       "      <td>medrxiv</td>\n",
       "      <td>Importance: COVID-19 case fatality and hospita...</td>\n",
       "      <td>2020-11-04</td>\n",
       "      <td>NaN</td>\n",
       "      <td>http://medrxiv.org/cgi/content/short/2020.10.3...</td>\n",
       "    </tr>\n",
       "    <tr>\n",
       "      <th>2</th>\n",
       "      <td>a071bea9e05d8d81f97db1c6aca34e07ff145e8c</td>\n",
       "      <td>[Raosoft, SurveyMonkey, Statistical Package fo...</td>\n",
       "      <td>Medline; PMC</td>\n",
       "      <td>Emergency Healthcare Providers’ Perceptions of...</td>\n",
       "      <td>10.3390/healthcare8040442</td>\n",
       "      <td>cc-by</td>\n",
       "      <td>This study evaluates the perceptions of prepar...</td>\n",
       "      <td>2020-10-29</td>\n",
       "      <td>Healthcare (Basel)</td>\n",
       "      <td>https://www.ncbi.nlm.nih.gov/pubmed/33138164/;...</td>\n",
       "    </tr>\n",
       "    <tr>\n",
       "      <th>3</th>\n",
       "      <td>e21fa0c3998bf989ec31046de9ebe3e074ec77ab</td>\n",
       "      <td>[CXNet, CheXNeXt, MATLAB]</td>\n",
       "      <td>Medline; PMC</td>\n",
       "      <td>The investigation of multiresolution approache...</td>\n",
       "      <td>10.1007/s13755-020-00116-6</td>\n",
       "      <td>no-cc</td>\n",
       "      <td>COVID-19 is a novel virus, which has a fast sp...</td>\n",
       "      <td>2020-09-29</td>\n",
       "      <td>Health Inf Sci Syst</td>\n",
       "      <td>https://doi.org/10.1007/s13755-020-00116-6; ht...</td>\n",
       "    </tr>\n",
       "    <tr>\n",
       "      <th>4</th>\n",
       "      <td>e9f4e223a840bf55a1bcfc2646946612361289eb</td>\n",
       "      <td>[SPSS, 25]</td>\n",
       "      <td>Medline; PMC</td>\n",
       "      <td>Characteristics, laboratories, and prognosis o...</td>\n",
       "      <td>10.1371/journal.pone.0239644</td>\n",
       "      <td>cc-by</td>\n",
       "      <td>The impact of the COVID-19 pandemic has been i...</td>\n",
       "      <td>2020-09-24</td>\n",
       "      <td>PLoS One</td>\n",
       "      <td>https://www.ncbi.nlm.nih.gov/pubmed/32970757/;...</td>\n",
       "    </tr>\n",
       "  </tbody>\n",
       "</table>\n",
       "</div>"
      ],
      "text/plain": [
       "                                   paper_id  \\\n",
       "0  190c2ad4da55a54dccf52a4dd83ebe317926fb2d   \n",
       "1  2b12eec29eceba760197cbb4ebe2fcdd1d522a22   \n",
       "2  a071bea9e05d8d81f97db1c6aca34e07ff145e8c   \n",
       "3  e21fa0c3998bf989ec31046de9ebe3e074ec77ab   \n",
       "4  e9f4e223a840bf55a1bcfc2646946612361289eb   \n",
       "\n",
       "                                            software        source  \\\n",
       "0               [CoronIT, CoronIT, HPzone, R, stats]  Medline; PMC   \n",
       "1                                                [R]  MedRxiv; WHO   \n",
       "2  [Raosoft, SurveyMonkey, Statistical Package fo...  Medline; PMC   \n",
       "3                          [CXNet, CheXNeXt, MATLAB]  Medline; PMC   \n",
       "4                                         [SPSS, 25]  Medline; PMC   \n",
       "\n",
       "                                               title  \\\n",
       "0  Occupation- and age-associated risk of SARS-Co...   \n",
       "1  SARS-CoV-2 Infection Hospitalization Rate and ...   \n",
       "2  Emergency Healthcare Providers’ Perceptions of...   \n",
       "3  The investigation of multiresolution approache...   \n",
       "4  Characteristics, laboratories, and prognosis o...   \n",
       "\n",
       "                                       doi  license  \\\n",
       "0  10.2807/1560-7917.es.2020.25.50.2001884    cc-by   \n",
       "1              10.1101/2020.10.30.20223461  medrxiv   \n",
       "2                10.3390/healthcare8040442    cc-by   \n",
       "3               10.1007/s13755-020-00116-6    no-cc   \n",
       "4             10.1371/journal.pone.0239644    cc-by   \n",
       "\n",
       "                                            abstract publish_time  \\\n",
       "0  High coronavirus incidence has prompted the Ne...   2020-12-17   \n",
       "1  Importance: COVID-19 case fatality and hospita...   2020-11-04   \n",
       "2  This study evaluates the perceptions of prepar...   2020-10-29   \n",
       "3  COVID-19 is a novel virus, which has a fast sp...   2020-09-29   \n",
       "4  The impact of the COVID-19 pandemic has been i...   2020-09-24   \n",
       "\n",
       "               journal                                                url  \n",
       "0        Euro Surveill  https://www.ncbi.nlm.nih.gov/pubmed/33334396/;...  \n",
       "1                  NaN  http://medrxiv.org/cgi/content/short/2020.10.3...  \n",
       "2   Healthcare (Basel)  https://www.ncbi.nlm.nih.gov/pubmed/33138164/;...  \n",
       "3  Health Inf Sci Syst  https://doi.org/10.1007/s13755-020-00116-6; ht...  \n",
       "4             PLoS One  https://www.ncbi.nlm.nih.gov/pubmed/32970757/;...  "
      ]
     },
     "execution_count": 75,
     "metadata": {},
     "output_type": "execute_result"
    }
   ],
   "source": [
    "paper_to_software.head()"
   ]
  },
  {
   "cell_type": "code",
   "execution_count": null,
   "metadata": {},
   "outputs": [],
   "source": []
  }
 ],
 "metadata": {
  "kernelspec": {
   "display_name": "Python 3",
   "language": "python",
   "name": "python3"
  },
  "language_info": {
   "codemirror_mode": {
    "name": "ipython",
    "version": 3
   },
   "file_extension": ".py",
   "mimetype": "text/x-python",
   "name": "python",
   "nbconvert_exporter": "python",
   "pygments_lexer": "ipython3",
   "version": "3.7.4"
  }
 },
 "nbformat": 4,
 "nbformat_minor": 2
}
